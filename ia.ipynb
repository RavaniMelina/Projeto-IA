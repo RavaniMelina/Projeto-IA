{
 "cells": [
  {
   "cell_type": "code",
   "execution_count": null,
   "metadata": {},
   "outputs": [],
   "source": [
    "#passo 0: entender  o desafio da empresa que você vai ter que resolver\n",
    "# passo 1: importar ase de dados\n",
    "# passo 2:preparar a base de dados para a Inteligência Artificial.\n",
    "#passo3: criar o modelo de IA: prever score de credito ,bom ,ok ou ruim\n",
    "#passo 4: escolher o melhor modelo de IA.\n",
    "#passo 5: usar nossa IA para definir o score correto."
   ]
  },
  {
   "cell_type": "code",
   "execution_count": null,
   "metadata": {},
   "outputs": [],
   "source": [
    " 'c:/Users/User/AppData/Local/Programs/Python/Python312/python.exe -m pip install ipykernel -U --user --force-reinstall"
   ]
  },
  {
   "cell_type": "code",
   "execution_count": null,
   "metadata": {},
   "outputs": [],
   "source": [
    " !pip install pandas numpy scikit-learn"
   ]
  },
  {
   "cell_type": "code",
   "execution_count": null,
   "metadata": {},
   "outputs": [],
   "source": [
    "#importar base de dados\n",
    "import pandas as pd\n",
    "tabela = pd.read_csv(\"cliente.csv\")\n",
    "display(tabela)"
   ]
  },
  {
   "cell_type": "code",
   "execution_count": null,
   "metadata": {},
   "outputs": [],
   "source": [
    "# passo 2:preparar a base de dados para a Inteligência Artificial.\n"
   ]
  },
  {
   "cell_type": "code",
   "execution_count": null,
   "metadata": {},
   "outputs": [],
   "source": [
    "#Tratar  as colunas:\n",
    "#profissão\n",
    "   #substuir  o nome da profissão por numero  exemplo: Engenheiro -1\n",
    "   # mecanico-2 , e asssim por diante, pois as IA não reconecem testos , somente número.\n",
    "   # processo chamdo de LabelenCode\n",
    "   \n",
    "# mix _credito\n",
    "#comportamneto_pagamento\n",
    "from sklearn.preprocessing import LabelEnconder\n",
    "\n",
    "codificador = LabelEnconder\n",
    "\n",
    "tabela[\"profissão\"] = codificador.fit_transform(tabela[\"profissão\"])\n",
    "\n",
    "tabela[\"mix_credito\"] = codificador.fit_transform(tabela[\"mix_credito\"])\n",
    "\n",
    "tabela[\"comportamento_pagamento\"] = codificador.fit_trasform(tabela[\"comportamneto_pagamento\"])\n",
    "\n",
    "display(tabela.info())\n",
    "\n",
    "\n"
   ]
  },
  {
   "cell_type": "code",
   "execution_count": null,
   "metadata": {},
   "outputs": [],
   "source": [
    "# Qual coluna de dados que eu quero prever com as IA?\n",
    "# y quem vc vai prever: o score de credito\n",
    "y =  tabela[\"score_credito\"]\n",
    "\n",
    "# x quem você quer usar para fazer a previsão\n",
    "x = tabela.drop(colums=[\"id_cliente\",\"score_credito\"])\n",
    "\n",
    "from sklearn.model_selection import train_test_split(x,y, test_size-03)"
   ]
  },
  {
   "cell_type": "code",
   "execution_count": null,
   "metadata": {},
   "outputs": [],
   "source": [
    "#passo3: criar o modelo de IA: prever score de credito ,bom ,ok ou ruim\n",
    "# arvore de decisão = RadomForest\n",
    "# kNN (vizinhos próximos)\n",
    "# importar a IA\n",
    "from sklearn.ensemble  import RandomForestClassifier\n",
    "from sklearn.neighbors import KNeighborsClassifier\n",
    "# criar a IA\n",
    "modelo_arvoredecisao = RandomForestClassifier ()\n",
    "modelo_knn = KNeighborsClassifier()\n",
    "# treinar a IA\n",
    "modelo_arvoredecisao.fit(x_treino, y_treino)\n"
   ]
  },
  {
   "cell_type": "code",
   "execution_count": null,
   "metadata": {},
   "outputs": [],
   "source": [
    "previsao_arvoredecisao = modelo_arvoredecisao.predict(x,teste)\n",
    "previsao_knn = modelo_knn.predict(x,teste)\n",
    "from sklearn.metrics import accuracy_score\n",
    "\n",
    "display(accuracy_score(y_teste, previsao_arvoredecisao))\n",
    "display(accuracy_score(y,teste, previsao_knn))"
   ]
  },
  {
   "cell_type": "code",
   "execution_count": null,
   "metadata": {},
   "outputs": [],
   "source": [
    "novos_clientes = pd.read_csv(\"novos_clientes.csv\")\n",
    "display(novos_clientes)\n",
    "\n",
    "novos_clientes[\"profissão\"] = codificador.fit_transform(novos_clientes[\"profissão\"])\n",
    "\n",
    "novos_clientes[\"mix_credito\"] = codificador.fit_transform(novos_clientes[\"mix_credito\"])\n",
    "\n",
    "novos_clientes[\"comportamento_pagamento\"] = codificador.fit_trasform(novos_clientes[\"comportamneto_pagamento\"])\n",
    "\n",
    "previsao =  modelo_arvoredecisao.predict(novos_clientes)\n",
    "display(previsao)\n"
   ]
  },
  {
   "cell_type": "code",
   "execution_count": null,
   "metadata": {},
   "outputs": [],
   "source": []
  },
  {
   "cell_type": "markdown",
   "metadata": {},
   "source": []
  }
 ],
 "metadata": {
  "kernelspec": {
   "display_name": "Python 3",
   "language": "python",
   "name": "python3"
  },
  "language_info": {
   "name": "python",
   "version": "3.12.2"
  }
 },
 "nbformat": 4,
 "nbformat_minor": 2
}
